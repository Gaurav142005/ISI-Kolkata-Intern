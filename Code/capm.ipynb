{
 "cells": [
  {
   "cell_type": "code",
   "execution_count": 22,
   "metadata": {},
   "outputs": [
    {
     "name": "stderr",
     "output_type": "stream",
     "text": [
      "/var/folders/hx/ckgg6j1s22l73jpkp3g7np640000gn/T/ipykernel_46487/3169567072.py:14: FutureWarning: YF.download() has changed argument auto_adjust default to True\n",
      "  prices = yf.download(all_tickers, start=start, end=end)[\"Close\"]\n",
      "[*********************100%***********************]  5 of 5 completed\n"
     ]
    },
    {
     "name": "stdout",
     "output_type": "stream",
     "text": [
      "                OLS α     OLS β     LPQ α     LPQ β   MSE_OLS   MSE_LPQ  \\\n",
      "Ticker                                                                    \n",
      "SHEMAROO.NS  0.000342  0.032037  0.000521  0.032037  0.001381  0.001381   \n",
      "INNOVANA.NS  0.001999  0.009745  0.002162  0.009745  0.001190  0.001190   \n",
      "AVAV         0.001047  1.000629  0.001094  1.000629  0.000922  0.000922   \n",
      "HRTX        -0.000923  1.305421 -0.000776  1.305421  0.002573  0.002573   \n",
      "\n",
      "              MAE_OLS   MAE_LPQ  \n",
      "Ticker                           \n",
      "SHEMAROO.NS  0.025559  0.025584  \n",
      "INNOVANA.NS  0.024531  0.024581  \n",
      "AVAV         0.018192  0.018196  \n",
      "HRTX         0.033502  0.033506  \n"
     ]
    },
    {
     "name": "stderr",
     "output_type": "stream",
     "text": [
      "/var/folders/hx/ckgg6j1s22l73jpkp3g7np640000gn/T/ipykernel_46487/3169567072.py:21: FutureWarning: The default fill_method='pad' in DataFrame.pct_change is deprecated and will be removed in a future version. Either fill in any non-leading NA values prior to calling pct_change or specify 'fill_method=None' to not fill NA values.\n",
      "  rets       = prices.pct_change().dropna()\n"
     ]
    }
   ],
   "source": [
    "import numpy as np\n",
    "import pandas as pd\n",
    "import statsmodels.api as sm\n",
    "import yfinance as yf\n",
    "from pandas_datareader import data as pdr\n",
    "\n",
    "# 1) Settings\n",
    "start, end = \"2020-01-01\", \"2025-06-30\"\n",
    "india_tickers = [\"SHEMAROO.NS\", \"INNOVANA.NS\"]\n",
    "us_tickers    = [\"AVAV\", \"HRTX\"]\n",
    "all_tickers   = india_tickers + us_tickers + [\"^GSPC\"]\n",
    "\n",
    "# 2) Download Close prices\n",
    "prices = yf.download(all_tickers, start=start, end=end)[\"Close\"]\n",
    "\n",
    "# 3) Download risk‑free rate and convert to daily\n",
    "rf = pdr.DataReader(\"DTB3\", \"fred\", start, end).dropna() / 100.0\n",
    "rf_daily = rf.reindex(prices.index).ffill() / 252.0\n",
    "\n",
    "# 4) Compute daily returns\n",
    "rets       = prices.pct_change().dropna()\n",
    "market_ret = rets[\"^GSPC\"]\n",
    "rf_ser     = rf_daily[\"DTB3\"]\n",
    "\n",
    "# 5) CAPM + LPQ performance function\n",
    "def capm_performance(y, mkt, rf):\n",
    "    # Excess returns\n",
    "    Y = y - rf\n",
    "    X = pd.DataFrame({\"mkt_exc\": mkt - rf})\n",
    "    X = sm.add_constant(X)   # columns: [\"const\",\"mkt_exc\"]\n",
    "    \n",
    "    # OLS fit\n",
    "    ols = sm.OLS(Y, X).fit()\n",
    "    params = ols.params              # Series indexed [\"const\",\"mkt_exc\"]\n",
    "    yhat_ols = ols.predict(X)\n",
    "    res_ols  = Y - yhat_ols\n",
    "    \n",
    "    # LPQ correction\n",
    "    res = res_ols.values\n",
    "    n, p = X.shape\n",
    "    sigma2 = np.var(res, ddof=p)\n",
    "    m3     = np.mean((res - res.mean())**3) / sigma2**1.5\n",
    "    m4     = np.mean((res - res.mean())**4) / sigma2**2\n",
    "    exk    = m4 - 3.0\n",
    "    gamma  = m3 / (2.0 + exk) if (2.0 + exk)!=0 else 0.0\n",
    "    \n",
    "    corr = (gamma * (X.values.T @ (res**2))) / n\n",
    "    lpq_params = params.values + corr      # numpy array length 2\n",
    "    yhat_lpq   = X.values @ lpq_params\n",
    "    res_lpq    = Y - yhat_lpq\n",
    "    \n",
    "    # Performance metrics\n",
    "    mse_ols = np.mean(res_ols**2)\n",
    "    mse_lpq = np.mean(res_lpq**2)\n",
    "    mae_ols = np.mean(np.abs(res_ols))\n",
    "    mae_lpq = np.mean(np.abs(res_lpq))\n",
    "    \n",
    "    return {\n",
    "        \"OLS α\":    params[\"const\"],\n",
    "        \"OLS β\":    params[\"mkt_exc\"],\n",
    "        \"LPQ α\":    lpq_params[0],\n",
    "        \"LPQ β\":    lpq_params[1],\n",
    "        \"MSE_OLS\":  mse_ols,\n",
    "        \"MSE_LPQ\":  mse_lpq,\n",
    "        \"MAE_OLS\":  mae_ols,\n",
    "        \"MAE_LPQ\":  mae_lpq\n",
    "    }\n",
    "\n",
    "# 6) Loop tickers and collect performance\n",
    "rows = []\n",
    "for ticker in india_tickers + us_tickers:\n",
    "    df = pd.concat([rets[ticker], market_ret, rf_ser], axis=1).dropna()\n",
    "    df.columns = [\"ret\",\"mkt\",\"rf\"]\n",
    "    perf = capm_performance(df[\"ret\"], df[\"mkt\"], df[\"rf\"])\n",
    "    perf[\"Ticker\"] = ticker\n",
    "    rows.append(perf)\n",
    "\n",
    "# 7) Display comparison table\n",
    "perf_df = pd.DataFrame(rows).set_index(\"Ticker\")\n",
    "print(perf_df)\n"
   ]
  },
  {
   "cell_type": "code",
   "execution_count": null,
   "metadata": {},
   "outputs": [],
   "source": []
  }
 ],
 "metadata": {
  "kernelspec": {
   "display_name": "venv",
   "language": "python",
   "name": "python3"
  },
  "language_info": {
   "codemirror_mode": {
    "name": "ipython",
    "version": 3
   },
   "file_extension": ".py",
   "mimetype": "text/x-python",
   "name": "python",
   "nbconvert_exporter": "python",
   "pygments_lexer": "ipython3",
   "version": "3.12.5"
  }
 },
 "nbformat": 4,
 "nbformat_minor": 2
}
