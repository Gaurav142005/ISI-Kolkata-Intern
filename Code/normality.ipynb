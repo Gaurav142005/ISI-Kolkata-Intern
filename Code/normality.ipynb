{
  "cells": [
    {
      "cell_type": "markdown",
      "metadata": {
        "id": "T0FX1kF-wjy7"
      },
      "source": [
        "## Importing modules"
      ]
    },
    {
      "cell_type": "code",
      "execution_count": 58,
      "metadata": {
        "id": "6EqGnAHPwjy-"
      },
      "outputs": [],
      "source": [
        "import numpy as np\n",
        "from scipy.stats import gamma\n",
        "import matplotlib.pyplot as plt\n",
        "from tqdm import tqdm\n",
        "from scipy.stats import kstest\n",
        "from scipy.stats import gamma\n",
        "%matplotlib inline"
      ]
    },
    {
      "cell_type": "markdown",
      "metadata": {
        "id": "rActQMGNwjzA"
      },
      "source": [
        "# Basic model setup"
      ]
    },
    {
      "cell_type": "code",
      "execution_count": 67,
      "metadata": {
        "id": "I8_tc1OWwjzA"
      },
      "outputs": [],
      "source": [
        "# Parameters\n",
        "p = 5\n",
        "beta_true = np.array([1, 0.5, -0.5, 0.3, -0.2])\n",
        "num_simulations = 1000\n"
      ]
    },
    {
      "cell_type": "markdown",
      "metadata": {
        "id": "x14ElHsOwjzA"
      },
      "source": [
        "## Error distributions"
      ]
    },
    {
      "cell_type": "code",
      "execution_count": 19,
      "metadata": {
        "id": "6-SA7BrvwjzA"
      },
      "outputs": [],
      "source": [
        "# Gamma-distributed errors (centered)\n",
        "shape, scale = 1.0, 2.0\n",
        "mean_epsilon = shape * scale\n",
        "\n",
        "def generate_epsilon(n):\n",
        "    return gamma.rvs(a=shape, scale=scale, size=n) - mean_epsilon"
      ]
    },
    {
      "cell_type": "markdown",
      "metadata": {
        "id": "nFlaHFT_wjzB"
      },
      "source": [
        "## Simulation Function"
      ]
    },
    {
      "cell_type": "code",
      "execution_count": 21,
      "metadata": {
        "id": "piZcfLlxwjzB"
      },
      "outputs": [],
      "source": [
        "def simulate_LPQ(n, num_simulations = 10000):\n",
        "    # Design matrix (fixed across simulations)\n",
        "    X = np.hstack([np.ones((n, 1)), np.random.normal(size=(n, p-1))])\n",
        "    XtX_inv = np.linalg.inv(X.T @ X)\n",
        "\n",
        "    # Storage for LPQ estimates\n",
        "    beta_lpq_estimates = np.zeros((num_simulations, p))\n",
        "\n",
        "    for i in tqdm(range(num_simulations), desc=\"Simulating LPQ estimates\"):\n",
        "        # Generate data\n",
        "        epsilon = generate_epsilon(n)\n",
        "        y = X @ beta_true + epsilon\n",
        "\n",
        "        # OLS estimate and residuals\n",
        "        beta_ols = XtX_inv @ X.T @ y\n",
        "        z = y - X @ beta_ols\n",
        "\n",
        "        # Moment estimates\n",
        "        sigma_hat = np.sqrt(np.mean(z**2))\n",
        "        m3 = np.mean((z - np.mean(z))**3) / sigma_hat**3\n",
        "        m4 = np.mean((z - np.mean(z))**4) / sigma_hat**4\n",
        "        gamma_vec = np.full(n, m4 - 3)\n",
        "        mu_vec = np.full(n, m3)\n",
        "\n",
        "        # Residual projection matrix\n",
        "        M = np.eye(n) - X @ XtX_inv @ X.T\n",
        "        M_squared = M * M  # Hadamard square\n",
        "\n",
        "        # LPQ estimation\n",
        "        beta_lpq = np.zeros(p)\n",
        "        for j in range(p):\n",
        "            b_j = XtX_inv[j, :] @ X.T  # shape (n,)\n",
        "            A = 2 * M_squared + np.diag(gamma_vec)\n",
        "            c = 3 * (b_j * mu_vec)\n",
        "            h_j = -0.5 * np.linalg.solve(A, c)\n",
        "            H_j = M @ np.diag(h_j) @ M\n",
        "\n",
        "            quad_term = (1 / sigma_hat) * y.T @ H_j @ y\n",
        "            trace_term = sigma_hat * np.trace(H_j)\n",
        "            beta_lpq[j] = b_j @ y + quad_term - trace_term\n",
        "\n",
        "        beta_lpq_estimates[i] = beta_lpq\n",
        "    return beta_lpq_estimates"
      ]
    },
    {
      "cell_type": "markdown",
      "metadata": {
        "id": "ObxhClQYwjzC"
      },
      "source": [
        "Now we will conduct the simulation for n = 100, 200, 500, 1000 points"
      ]
    },
    {
      "cell_type": "code",
      "execution_count": 22,
      "metadata": {
        "id": "qu4x0FlUwjzC"
      },
      "outputs": [],
      "source": [
        "def analyse(n):\n",
        "    beta_pred = simulate_LPQ(n)\n",
        "    for i in range(p):\n",
        "        print(f\"β_{i+1}: \", np.mean(beta_pred[:, i]))\n",
        "\n",
        "    plt.hist(beta_pred[:,0], bins=50)\n",
        "    plt.show()\n",
        "\n",
        "    for j in range(p):\n",
        "        samples = beta_pred[:, j]\n",
        "        mu_hat = np.mean(samples)\n",
        "        std_hat = np.std(samples, ddof=1)\n",
        "        stat, p_val = kstest(samples, 'norm', args=(mu_hat, std_hat))\n",
        "        print(f\"β_{j+1}: KS statistic = {stat:.4f}, p = {p_val:.4f}\")\n",
        "        if p_val < 0.05:\n",
        "            print(\"Reject normality (p < 0.05)\")\n",
        "        else:\n",
        "            print(\"Cannot reject normality (p >= 0.05)\")\n"
      ]
    },
    {
      "cell_type": "code",
      "execution_count": 23,
      "metadata": {
        "colab": {
          "base_uri": "https://localhost:8080/",
          "height": 708
        },
        "id": "HPyGWT6hwjzC",
        "outputId": "24d3d758-b056-4288-a216-1f99ede5d02b"
      },
      "outputs": [
        {
          "name": "stderr",
          "output_type": "stream",
          "text": [
            "Simulating LPQ estimates: 100%|██████████| 10000/10000 [00:15<00:00, 638.36it/s]\n"
          ]
        },
        {
          "name": "stdout",
          "output_type": "stream",
          "text": [
            "β_1:  0.9523322560325381\n",
            "β_2:  0.5021603755397801\n",
            "β_3:  -0.49932928878683636\n",
            "β_4:  0.2994703905609877\n",
            "β_5:  -0.19980219665348264\n"
          ]
        },
        {
          "data": {
            "image/png": "[encoded data removed]",
            "text/plain": [
              "<Figure size 640x480 with 1 Axes>"
            ]
          },
          "metadata": {},
          "output_type": "display_data"
        },
        {
          "name": "stdout",
          "output_type": "stream",
          "text": [
            "β_1: KS statistic = 0.0153, p = 0.0179\n",
            "Reject normality (p < 0.05)\n",
            "β_2: KS statistic = 0.0082, p = 0.5076\n",
            "Cannot reject normality (p >= 0.05)\n",
            "β_3: KS statistic = 0.0058, p = 0.8851\n",
            "Cannot reject normality (p >= 0.05)\n",
            "β_4: KS statistic = 0.0084, p = 0.4833\n",
            "Cannot reject normality (p >= 0.05)\n",
            "β_5: KS statistic = 0.0071, p = 0.6860\n",
            "Cannot reject normality (p >= 0.05)\n"
          ]
        }
      ],
      "source": [
        "analyse(100)"
      ]
    },
    {
      "cell_type": "code",
      "execution_count": 11,
      "metadata": {
        "colab": {
          "base_uri": "https://localhost:8080/",
          "height": 708
        },
        "id": "VRtF7GxXwjzD",
        "outputId": "852ece72-13df-46dd-dd7a-0e0a41146294"
      },
      "outputs": [
        {
          "name": "stderr",
          "output_type": "stream",
          "text": [
            "Simulating LPQ estimates: 100%|██████████| 10000/10000 [03:56<00:00, 42.22it/s]\n"
          ]
        },
        {
          "name": "stdout",
          "output_type": "stream",
          "text": [
            "β_1:  0.9822048277670227\n",
            "β_2:  0.4998135689927687\n",
            "β_3:  -0.5006324630570852\n",
            "β_4:  0.3001749442116068\n",
            "β_5:  -0.199758988514362\n"
          ]
        },
        {
          "data": {
            "image/png": "[encoded data removed]",
            "text/plain": [
              "<Figure size 640x480 with 1 Axes>"
            ]
          },
          "metadata": {},
          "output_type": "display_data"
        },
        {
          "name": "stdout",
          "output_type": "stream",
          "text": [
            "β_1: KS statistic = 0.0086, p = 0.4527\n",
            "Cannot reject normality (p >= 0.05)\n",
            "β_2: KS statistic = 0.0064, p = 0.8120\n",
            "Cannot reject normality (p >= 0.05)\n",
            "β_3: KS statistic = 0.0065, p = 0.7916\n",
            "Cannot reject normality (p >= 0.05)\n",
            "β_4: KS statistic = 0.0035, p = 0.9997\n",
            "Cannot reject normality (p >= 0.05)\n",
            "β_5: KS statistic = 0.0065, p = 0.7898\n",
            "Cannot reject normality (p >= 0.05)\n"
          ]
        }
      ],
      "source": [
        "analyse(200)"
      ]
    },
    {
      "cell_type": "code",
      "execution_count": null,
      "metadata": {
        "id": "p2Dg16bGwjzD",
        "outputId": "b0c39d01-e9f0-40c6-9fca-d4ae58a1b85a"
      },
      "outputs": [
        {
          "name": "stderr",
          "output_type": "stream",
          "text": [
            "Simulating LPQ estimates: 100%|██████████| 10000/10000 [13:53<00:00, 12.00it/s] \n"
          ]
        },
        {
          "name": "stdout",
          "output_type": "stream",
          "text": [
            "β_1:  0.9943309450256691\n",
            "β_2:  0.5014957803148217\n",
            "β_3:  -0.5003163133857187\n",
            "β_4:  0.299852528297462\n",
            "β_5:  -0.20070938833004126\n"
          ]
        },
        {
          "data": {
            "image/png": "[encoded data removed]",
            "text/plain": [
              "<Figure size 640x480 with 1 Axes>"
            ]
          },
          "metadata": {},
          "output_type": "display_data"
        },
        {
          "name": "stdout",
          "output_type": "stream",
          "text": [
            "β_1: KS statistic = 0.0073, p = 0.6621\n",
            "Cannot reject normality (p >= 0.05)\n",
            "β_2: KS statistic = 0.0075, p = 0.6287\n",
            "Cannot reject normality (p >= 0.05)\n",
            "β_3: KS statistic = 0.0073, p = 0.6575\n",
            "Cannot reject normality (p >= 0.05)\n",
            "β_4: KS statistic = 0.0067, p = 0.7546\n",
            "Cannot reject normality (p >= 0.05)\n",
            "β_5: KS statistic = 0.0063, p = 0.8214\n",
            "Cannot reject normality (p >= 0.05)\n"
          ]
        }
      ],
      "source": [
        "analyse(500)"
      ]
    },
    {
      "cell_type": "markdown",
      "metadata": {
        "id": "9h0jJpTdF18Y"
      },
      "source": [
        "## Size and Power of Test"
      ]
    },
    {
      "cell_type": "code",
      "execution_count": 62,
      "metadata": {
        "id": "NIXY5OZUIhJ-"
      },
      "outputs": [],
      "source": [
        "# ------------------------------------------------------------\n",
        "# 1. Core LPQ Simulation Function (batched)\n",
        "# ------------------------------------------------------------\n",
        "def simulate_LPQ_batches(n, p, beta_true, generate_epsilon,\n",
        "                         num_batches=100, batch_size=200):\n",
        "    \"\"\"\n",
        "    Simulate batches of LPQ estimates for beta_0, ..., beta_{p-1}.\n",
        "    Returns an array of shape (num_batches, batch_size, p).\n",
        "\n",
        "    Parameters:\n",
        "    - n: sample size\n",
        "    - p: number of regression parameters (including intercept)\n",
        "    - beta_true: array of length p, true regression coefficients\n",
        "    - generate_epsilon: function eps = generate_epsilon(n)\n",
        "       that returns a length-n error vector\n",
        "    - num_batches: how many independent batches to simulate\n",
        "    - batch_size: how many LPQ estimates per batch\n",
        "    \"\"\"\n",
        "    # 1a. Build a fixed design matrix X with an intercept + (p-1) normals\n",
        "    X = np.hstack([\n",
        "        np.ones((n, 1)),\n",
        "        np.random.normal(size=(n, p - 1))\n",
        "    ])\n",
        "    XtX_inv = np.linalg.inv(X.T @ X)\n",
        "    M = np.eye(n) - X @ XtX_inv @ X.T\n",
        "    M_squared = M * M  # Hadamard square, used to build A = 2*(M∘M) + diag(gamma)\n",
        "\n",
        "    all_batches = np.zeros((num_batches, batch_size, p))\n",
        "\n",
        "    for b in tqdm(range(num_batches), desc=f\"Simulating {num_batches} batches (n={n})\"):\n",
        "        batch = np.zeros((batch_size, p))\n",
        "\n",
        "        for s in range(batch_size):\n",
        "            eps = generate_epsilon(n)                  # draw errors of length n\n",
        "            y = X @ beta_true + eps\n",
        "\n",
        "            beta_ols = XtX_inv @ (X.T @ y)             # OLS estimate (p,)\n",
        "            z = y - X @ beta_ols\n",
        "\n",
        "            sigma_hat = np.sqrt(np.mean(z**2))\n",
        "\n",
        "            # Estimate skewness and excess kurtosis from residuals\n",
        "            m3 = np.mean((z - np.mean(z))**3) / sigma_hat**3\n",
        "            m4 = np.mean((z - np.mean(z))**4) / sigma_hat**4\n",
        "            gamma_vec = np.full(n, m4 - 3)              # γ_j = m4_j - 3 (identical for all j)\n",
        "            mu_vec = np.full(n, m3)                     # m3_j (identical)\n",
        "\n",
        "            beta_lpq = np.zeros(p)\n",
        "\n",
        "            # Compute each component j = 0,...,p-1\n",
        "            for j in range(p):\n",
        "                # b_j = row j of (X'X)^{-1} X'\n",
        "                b_j = XtX_inv[j, :] @ X.T               # shape (n,)\n",
        "\n",
        "                # Build A = 2*(M∘M) + diag(gamma_vec)\n",
        "                A = 2 * M_squared + np.diag(gamma_vec)\n",
        "                # Build c = 3 * (b_j ∘ mu_vec)\n",
        "                c = 3 * (b_j * mu_vec)\n",
        "\n",
        "                # Solve for h_j = -0.5 * A^{-1} c\n",
        "                h_j = -0.5 * np.linalg.solve(A, c)\n",
        "\n",
        "                # Build H_j = M diag(h_j) M\n",
        "                H_j = M @ np.diag(h_j) @ M\n",
        "\n",
        "                # Compute quadratic term and trace term\n",
        "                quad_term = (1.0 / sigma_hat) * (y.T @ H_j @ y)\n",
        "                trace_term = sigma_hat * np.trace(H_j)\n",
        "\n",
        "                # LPQ estimate for component j\n",
        "                beta_lpq[j] = b_j @ y + quad_term - trace_term\n",
        "\n",
        "            batch[s, :] = beta_lpq\n",
        "\n",
        "        all_batches[b] = batch\n",
        "\n",
        "    return all_batches"
      ]
    },
    {
      "cell_type": "code",
      "execution_count": 68,
      "metadata": {
        "id": "aA1IBRkfI3rO"
      },
      "outputs": [],
      "source": [
        "# ------------------------------------------------------------\n",
        "# 2. Error Generators\n",
        "# ------------------------------------------------------------\n",
        "def eps_normal(n):\n",
        "    \"\"\"Mean-zero Gaussian errors of length n.\"\"\"\n",
        "    return np.random.normal(loc=0.0, scale=1.0, size=n)\n",
        "\n",
        "def eps_gamma(n):\n",
        "    raw = np.random.gamma(shape=shape, scale=scale, size=n)\n",
        "    return raw - shape*scale"
      ]
    },
    {
      "cell_type": "code",
      "execution_count": 66,
      "metadata": {
        "id": "iXtcMeWcJXN5"
      },
      "outputs": [],
      "source": [
        "# ------------------------------------------------------------\n",
        "# 3. Estimate Size (Type I Error) under True Normal Errors\n",
        "# ------------------------------------------------------------\n",
        "def estimate_size_lpq(n, p, beta_true, num_batches=100, batch_size=200, alpha=0.05):\n",
        "    \"\"\"\n",
        "    Empirically estimate the size of the KS normality test on LPQ beta_0\n",
        "    when errors are truly normal.\n",
        "    Returns: empirical_size (float).\n",
        "    \"\"\"\n",
        "    # Simulate LPQ batches using normal errors\n",
        "    beta_batches = simulate_LPQ_batches(n, p, beta_true, eps_normal, num_batches, batch_size)\n",
        "\n",
        "    pvals = []\n",
        "    for batch in beta_batches:\n",
        "        b0 = batch[:, 1]                      # all batch_size draws of LPQ beta_0\n",
        "        mu_hat = np.mean(b0)\n",
        "        std_hat = np.std(b0, ddof=1)\n",
        "        _, pval = kstest(b0, 'norm', args=(mu_hat, std_hat))\n",
        "        pvals.append(pval)\n",
        "\n",
        "    pvals = np.array(pvals)\n",
        "    empirical_size = np.mean(pvals < alpha)\n",
        "    return empirical_size\n",
        "\n",
        "\n",
        "# ------------------------------------------------------------\n",
        "# 4. Estimate Power under Gamma Errors\n",
        "# ------------------------------------------------------------\n",
        "def estimate_power_lpq(n, p, beta_true, num_batches=100, batch_size=200, alpha=0.05):\n",
        "    \"\"\"\n",
        "    Empirically estimate the power of the KS normality test on LPQ beta_0\n",
        "    when errors are non-normal (Gamma).\n",
        "    Returns: empirical_power (float).\n",
        "    \"\"\"\n",
        "    # Simulate LPQ batches using Gamma errors\n",
        "    beta_batches = simulate_LPQ_batches(n, p, beta_true,eps_gamma,num_batches,batch_size)\n",
        "    pvals = []\n",
        "    for batch in beta_batches:\n",
        "        b0 = batch[:, 1]\n",
        "        mu_hat = np.mean(b0)\n",
        "        std_hat = np.std(b0, ddof=1)\n",
        "        if std_hat == 0:\n",
        "            continue\n",
        "        _, pval = kstest(b0, 'norm', args=(mu_hat, std_hat))\n",
        "        pvals.append(pval)\n",
        "\n",
        "    pvals = np.array(pvals)\n",
        "    empirical_power = np.mean(pvals < alpha)\n",
        "    return empirical_power"
      ]
    },
    {
      "cell_type": "code",
      "execution_count": 70,
      "metadata": {
        "colab": {
          "base_uri": "https://localhost:8080/",
          "height": 1000
        },
        "id": "MWvA7ydBKKur",
        "outputId": "a1bf7920-f2fc-487f-b908-bb88bd4ac9a0"
      },
      "outputs": [
        {
          "name": "stderr",
          "output_type": "stream",
          "text": [
            "Simulating 200 batches (n=10): 100%|██████████| 200/200 [00:12<00:00, 15.82it/s]\n",
            "Simulating 200 batches (n=10): 100%|██████████| 200/200 [00:12<00:00, 16.23it/s]\n"
          ]
        },
        {
          "name": "stdout",
          "output_type": "stream",
          "text": [
            "n= 10 | Size ≈ 1.000 | Power ≈ 1.000\n"
          ]
        },
        {
          "name": "stderr",
          "output_type": "stream",
          "text": [
            "Simulating 200 batches (n=20): 100%|██████████| 200/200 [00:13<00:00, 14.87it/s]\n",
            "Simulating 200 batches (n=20): 100%|██████████| 200/200 [00:14<00:00, 14.10it/s]\n"
          ]
        },
        {
          "name": "stdout",
          "output_type": "stream",
          "text": [
            "n= 20 | Size ≈ 1.000 | Power ≈ 1.000\n"
          ]
        },
        {
          "name": "stderr",
          "output_type": "stream",
          "text": [
            "Simulating 200 batches (n=30): 100%|██████████| 200/200 [00:14<00:00, 13.44it/s]\n",
            "Simulating 200 batches (n=30): 100%|██████████| 200/200 [00:15<00:00, 13.28it/s]\n"
          ]
        },
        {
          "name": "stdout",
          "output_type": "stream",
          "text": [
            "n= 30 | Size ≈ 0.975 | Power ≈ 0.980\n"
          ]
        },
        {
          "name": "stderr",
          "output_type": "stream",
          "text": [
            "Simulating 200 batches (n=40): 100%|██████████| 200/200 [00:17<00:00, 11.76it/s]\n",
            "Simulating 200 batches (n=40): 100%|██████████| 200/200 [00:17<00:00, 11.76it/s]\n"
          ]
        },
        {
          "name": "stdout",
          "output_type": "stream",
          "text": [
            "n= 40 | Size ≈ 0.385 | Power ≈ 0.670\n"
          ]
        },
        {
          "name": "stderr",
          "output_type": "stream",
          "text": [
            "Simulating 200 batches (n=50): 100%|██████████| 200/200 [00:19<00:00, 10.09it/s]\n",
            "Simulating 200 batches (n=50): 100%|██████████| 200/200 [00:19<00:00, 10.19it/s]\n"
          ]
        },
        {
          "name": "stdout",
          "output_type": "stream",
          "text": [
            "n= 50 | Size ≈ 0.005 | Power ≈ 0.180\n"
          ]
        },
        {
          "name": "stderr",
          "output_type": "stream",
          "text": [
            "Simulating 200 batches (n=60): 100%|██████████| 200/200 [00:23<00:00,  8.41it/s]\n",
            "Simulating 200 batches (n=60): 100%|██████████| 200/200 [00:24<00:00,  8.33it/s]\n"
          ]
        },
        {
          "name": "stdout",
          "output_type": "stream",
          "text": [
            "n= 60 | Size ≈ 0.010 | Power ≈ 0.000\n"
          ]
        },
        {
          "name": "stderr",
          "output_type": "stream",
          "text": [
            "Simulating 200 batches (n=70): 100%|██████████| 200/200 [00:29<00:00,  6.83it/s]\n",
            "Simulating 200 batches (n=70): 100%|██████████| 200/200 [00:28<00:00,  6.91it/s]\n"
          ]
        },
        {
          "name": "stdout",
          "output_type": "stream",
          "text": [
            "n= 70 | Size ≈ 0.000 | Power ≈ 0.000\n"
          ]
        },
        {
          "name": "stderr",
          "output_type": "stream",
          "text": [
            "Simulating 200 batches (n=80): 100%|██████████| 200/200 [00:34<00:00,  5.74it/s]\n",
            "Simulating 200 batches (n=80): 100%|██████████| 200/200 [00:34<00:00,  5.74it/s]\n"
          ]
        },
        {
          "name": "stdout",
          "output_type": "stream",
          "text": [
            "n= 80 | Size ≈ 0.000 | Power ≈ 0.000\n"
          ]
        },
        {
          "name": "stderr",
          "output_type": "stream",
          "text": [
            "Simulating 200 batches (n=90): 100%|██████████| 200/200 [00:43<00:00,  4.64it/s]\n",
            "Simulating 200 batches (n=90): 100%|██████████| 200/200 [00:43<00:00,  4.59it/s]\n"
          ]
        },
        {
          "name": "stdout",
          "output_type": "stream",
          "text": [
            "n= 90 | Size ≈ 0.000 | Power ≈ 0.000\n"
          ]
        },
        {
          "name": "stderr",
          "output_type": "stream",
          "text": [
            "Simulating 200 batches (n=100): 100%|██████████| 200/200 [00:54<00:00,  3.64it/s]\n",
            "Simulating 200 batches (n=100): 100%|██████████| 200/200 [00:55<00:00,  3.63it/s]\n"
          ]
        },
        {
          "name": "stdout",
          "output_type": "stream",
          "text": [
            "n=100 | Size ≈ 0.000 | Power ≈ 0.000\n"
          ]
        },
        {
          "data": {
            "image/png": "[encoded data removed]",
            "text/plain": [
              "<Figure size 800x500 with 1 Axes>"
            ]
          },
          "metadata": {},
          "output_type": "display_data"
        }
      ],
      "source": [
        "# Simulation settings\n",
        "batch_size = 200\n",
        "num_batches = 200\n",
        "alpha = 0.05\n",
        "\n",
        "ns = list(range(10, 101, 10))  # n = 50, 100, 150, ..., 500\n",
        "sizes = []\n",
        "powers = []\n",
        "\n",
        "for n in ns:\n",
        "    # 5a. Empirical size (Normal errors)\n",
        "    size_n = estimate_size_lpq(\n",
        "        n=n,\n",
        "        p=p,\n",
        "        beta_true=beta_true,\n",
        "        num_batches=num_batches,\n",
        "        batch_size=batch_size,\n",
        "        alpha=alpha\n",
        "    )\n",
        "    sizes.append(size_n)\n",
        "\n",
        "    # 5b. Empirical power (Gamma errors)\n",
        "    power_n = estimate_power_lpq(\n",
        "        n=n,\n",
        "        p=p,\n",
        "        beta_true=beta_true,\n",
        "        num_batches=num_batches,\n",
        "        batch_size=batch_size,\n",
        "        alpha=alpha\n",
        "    )\n",
        "    powers.append(power_n)\n",
        "\n",
        "    print(f\"n={n:3d} | Size ≈ {size_n:.3f} | Power ≈ {power_n:.3f}\")\n",
        "\n",
        "# 6. Plot Size and Power vs. n\n",
        "plt.figure(figsize=(8, 5))\n",
        "plt.plot(ns, sizes, marker='o', label=\"Empirical Size (Normal errors)\")\n",
        "plt.plot(ns, powers, marker='s', label=\"Empirical Power (Gamma errors)\")\n",
        "plt.axhline(alpha, color='gray', linestyle='--', label=f\"α = {alpha}\")\n",
        "plt.xlabel(\"Sample size n\")\n",
        "plt.ylabel(\"Rejection Rate\")\n",
        "plt.title(\"LPQ Normality Test: Size vs. Power as n Increases\")\n",
        "plt.legend()\n",
        "plt.grid(True)\n",
        "plt.tight_layout()\n",
        "plt.show()"
      ]
    }
  ],
  "metadata": {
    "accelerator": "TPU",
    "colab": {
      "gpuType": "V28",
      "provenance": []
    },
    "kernelspec": {
      "display_name": "venv",
      "language": "python",
      "name": "python3"
    },
    "language_info": {
      "codemirror_mode": {
        "name": "ipython",
        "version": 3
      },
      "file_extension": ".py",
      "mimetype": "text/x-python",
      "name": "python",
      "nbconvert_exporter": "python",
      "pygments_lexer": "ipython3",
      "version": "3.12.5"
    }
  },
  "nbformat": 4,
  "nbformat_minor": 0
}
